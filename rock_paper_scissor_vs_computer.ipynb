{
 "cells": [
  {
   "cell_type": "code",
   "execution_count": 4,
   "metadata": {},
   "outputs": [
    {
     "name": "stdout",
     "output_type": "stream",
     "text": [
      "<-------------WELCCOME TO THE GAME------------->\n",
      "Deepak V/S Computer\n",
      "Choose from the options (Rock,Paper,Scissor)\n",
      "<---------------------------------------------->\n",
      "Its rock v/s rock\n",
      "Its a tie, score remains the same\n",
      "<---------------------------------------------->\n",
      "Its rock v/s paper\n",
      "winner is = Computer\n",
      "<---------------------------------------------->\n",
      "Its rock v/s scissor\n",
      "winner is =  Deepak\n",
      "<---------------------------------------------->\n",
      "Its scissor v/s scissor\n",
      "Its a tie, score remains the same\n",
      "<---------------------------------------------->\n",
      "THANK YOU I HOPE YOU ENJOYED\n",
      "The final scores are-->\n",
      "Deepak  =  1\n",
      "Computer =  1\n",
      "Its a tie you both played well\n"
     ]
    }
   ],
   "source": [
    "import random\n",
    "x=1\n",
    "score1 =0\n",
    "score2 =0\n",
    "lis = ['rock','paper','scissor']\n",
    "print(\"<-------------WELCCOME TO THE GAME------------->\")\n",
    "user1_name = (input(\"Enter your name user1: \"))\n",
    "print(user1_name,\"V/S Computer\")\n",
    "print(\"Choose from the options (Rock,Paper,Scissor)\")\n",
    "print(\"<---------------------------------------------->\")\n",
    "while(x==1):\n",
    "    \n",
    "    user1_in = input(\"Choose your option user1: \").lower()\n",
    "    user2_in = random.choice(lis).lower()\n",
    "    if(user1_in not in lis or user2_in not in lis):\n",
    "        print(\"Invalid input start again\")\n",
    "    else:\n",
    "        if(user1_in == user2_in):\n",
    "            print(\"Its\",user1_in,\"v/s\",user2_in)\n",
    "            print(\"Its a tie, score remains the same\")\n",
    "        elif(user1_in == 'rock' and user2_in == 'paper' ):\n",
    "            print(\"Its rock v/s paper\")\n",
    "            score2 +=1\n",
    "            print(\"winner is = Computer\")\n",
    "        elif(user1_in == 'rock' and user2_in == 'scissor' ):\n",
    "            print(\"Its rock v/s scissor\")\n",
    "            print(\"winner is = \",user1_name)\n",
    "            score1 +=1\n",
    "        elif(user1_in == 'paper' and user2_in == 'rock' ):\n",
    "            print(\"Its paper v/s rock\")\n",
    "            print(\"winner is = \",user1_name)\n",
    "            score1 +=1\n",
    "        elif(user1_in == 'paper' and user2_in == 'scissor' ):\n",
    "            print(\"Its paper v/s scissor\")\n",
    "            print(\"winner is = Computer\")\n",
    "            score2 +=1\n",
    "        elif(user1_in == 'scissor' and user2_in == 'rock' ):\n",
    "            print(\"Its scissor v/s rock\")\n",
    "            print(\"winner is = Computer\")\n",
    "            score2 +=1\n",
    "        elif(user1_in == 'scissor' and user2_in == 'paper' ):\n",
    "            print(\"Its scissor v/s paper\")\n",
    "            print(\"winner is = \",user1_name)\n",
    "            score1 +=1\n",
    "        else:\n",
    "            print(\"There is an error \")\n",
    "        print(\"<---------------------------------------------->\")\n",
    "        x = int(input(\"Do you want to play again? if yes then press 1 or else 0\"))\n",
    "print(\"THANK YOU I HOPE YOU ENJOYED\")\n",
    "print(\"The final scores are-->\")\n",
    "print(user1_name,\" = \",score1)\n",
    "print(\"Computer = \",score2)\n",
    "if(score1>score2):\n",
    "    print(\"Winner is: \",user1_name)\n",
    "elif(score1 == score2):\n",
    "    print(\"Its a tie you both played well\")\n",
    "else:\n",
    "    print(\"Winner is: Computer\")\n"
   ]
  }
 ],
 "metadata": {
  "kernelspec": {
   "display_name": "Python 3",
   "language": "python",
   "name": "python3"
  },
  "language_info": {
   "codemirror_mode": {
    "name": "ipython",
    "version": 3
   },
   "file_extension": ".py",
   "mimetype": "text/x-python",
   "name": "python",
   "nbconvert_exporter": "python",
   "pygments_lexer": "ipython3",
   "version": "3.10.1"
  },
  "orig_nbformat": 4,
  "vscode": {
   "interpreter": {
    "hash": "b9aa67c5e78b0d6c10c9383426dc31b5f0d8421abbb317f85098041187b828fe"
   }
  }
 },
 "nbformat": 4,
 "nbformat_minor": 2
}
